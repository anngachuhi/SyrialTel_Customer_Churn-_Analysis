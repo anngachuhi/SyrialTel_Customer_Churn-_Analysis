{
 "cells": [
  {
   "cell_type": "markdown",
   "id": "0ff3c3ad",
   "metadata": {},
   "source": [
    "# SYRIALTEL CUSTOMER CHURN\n"
   ]
  },
  {
   "cell_type": "markdown",
   "id": "f774fbcf",
   "metadata": {},
   "source": [
    "## Data Source \n",
    "The DataSet `bigml_59c28831336c6604c800002a.csv` is downloaded from ` https://www.kaggle.com/datasets/becksddf/churn-in-telecoms-dataset.`"
   ]
  },
  {
   "cell_type": "markdown",
   "id": "dd5657c9",
   "metadata": {},
   "source": [
    "## Introduction\n",
    "- Customer Churn is the loss of clients or customers.\n",
    "- SyriaTel, a telecommunications company, wants to predict customer churn — whether a customer is likely to stop using their services. By identifying customers at risk of leaving, the company can take proactive retention measures (like offering incentives or improved support), reducing revenue loss and maintaining customer loyalty.\n",
    "\n",
    "- The analysis is conducted in Python 3.8.5 using jupyter notebook which allows is to create an interactive environment which includes live code, visualization and text."
   ]
  },
  {
   "cell_type": "markdown",
   "id": "a3031c6f",
   "metadata": {},
   "source": [
    "## Data Understanding.\n",
    "The structure of the seriatel tel looks like:\n",
    "\n",
    "\n",
    "| Column Name                  | Data Type            | Description                                                                                                                             |\n",
    "| ---------------------------- | -------------------- | --------------------------------------------------------------------------------------------------------------------------------------- |\n",
    "| **`state`**                  | Categorical          | The U.S. state where the customer resides. Likely not meaningful geographically but may capture region-based service differences.       |\n",
    "| **`account length`**         | Numerical            | The number of days the customer has had an account with SyriaTel. A higher value may indicate customer loyalty.                         |\n",
    "| **`area code`**              | Categorical          | Telephone area code (e.g., 415, 408). Categorical feature that may relate to geographic zones.                                          |\n",
    "| **`international plan`**     | Categorical (Yes/No) | Indicates whether the customer subscribes to the international calling plan.                                                            |\n",
    "| **`voice mail plan`**        | Categorical (Yes/No) | Indicates if the customer has a voice mail service.                                                                                     |\n",
    "| **`number vmail messages`**  | Numerical            | Number of voice mail messages the customer has received. Relevant mostly if the customer has a voicemail plan.                          |\n",
    "| **`total day minutes`**      | Numerical            | Total number of minutes the customer spent on calls during the day.                                                                     |\n",
    "| **`total day calls`**        | Numerical            | Total number of day calls made by the customer.                                                                                         |\n",
    "| **`total day charge`**       | Numerical            | The total cost of the day calls (based on total day minutes).                                                                           |\n",
    "| **`total eve minutes`**      | Numerical            | Total number of minutes the customer spent on calls during the evening.                                                                 |\n",
    "| **`total eve calls`**        | Numerical            | Total number of evening calls.                                                                                                          |\n",
    "| **`total eve charge`**       | Numerical            | Total cost of evening calls (based on evening minutes).                                                                                 |\n",
    "| **`total night minutes`**    | Numerical            | Total minutes of calls during nighttime.                                                                                                |\n",
    "| **`total night calls`**      | Numerical            | Total number of nighttime calls.                                                                                                        |\n",
    "| **`total night charge`**     | Numerical            | Total cost of night calls.                                                                                                              |\n",
    "| **`total intl minutes`**     | Numerical            | Total minutes spent on international calls.                                                                                             |\n",
    "| **`total intl calls`**       | Numerical            | Number of international calls made.                                                                                                     |\n",
    "| **`total intl charge`**      | Numerical            | Cost of international calls.                                                                                                            |\n",
    "| **`customer service calls`** | Numerical (Integer)  | Number of times the customer has called customer service. Often a strong churn indicator — higher values might suggest dissatisfaction. |\n",
    "| **`churn`** *(target)*       | Boolean              | Target variable: `True` if the customer has churned; `False` otherwise.                                                                 |\n",
    "\n",
    "---\n",
    "\n"
   ]
  },
  {
   "cell_type": "markdown",
   "id": "587e5d40",
   "metadata": {},
   "source": [
    "## Business Question\n",
    "- Build a classifier to predict whether a customer will (\"soon\") stop doing business with SyriaTel, a telecommunications company. "
   ]
  },
  {
   "cell_type": "markdown",
   "id": "a3df880f",
   "metadata": {},
   "source": [
    "## Obectives\n",
    "**1. Analysis Objectives**\n",
    "\n",
    "**(I) `Identify Key Behavioral and Demographic Factors Influencing Churn`**\n",
    "\n",
    "Perform exploratory data analysis (EDA) and use feature importance techniques to uncover which customer behaviors — such as frequent customer service calls, high international call charges, or lack of a voicemail plan — are most strongly associated with churn.\n",
    "\n",
    "**(II) `Profile At-Risk Customers to Support Targeted Business Interventions`**\n",
    "\n",
    "Analyze the characteristics and patterns of high-risk customers to create actionable customer segments that SyriaTel can target with tailored retention strategies (e.g., by usage pattern, location, or service plan).\n",
    "\n",
    "**2. Modelling Objectives**\n",
    "\n",
    "**(I) `Build an Accurate Churn Prediction Model`**:\n",
    "\n",
    " Use customer behavioral data to develop a classification model that predicts churn (True/False) with high accuracy, precision, and recall.\n",
    "\n",
    "**(II) `Identify Key Drivers of Customer Churn`**:\n",
    "\n",
    "Perform feature importance analysis (e.g., using tree-based models) to determine what factors — such as high international call charges, many customer service calls, or no voicemail plan — are most strongly associated with churn.\n"
   ]
  },
  {
   "cell_type": "markdown",
   "id": "cfbb5cf0",
   "metadata": {},
   "source": [
    "## Libraries"
   ]
  },
  {
   "cell_type": "code",
   "execution_count": 2,
   "id": "0d6f53ca",
   "metadata": {},
   "outputs": [],
   "source": [
    "# Data handling libraries\n",
    "import pandas as pd # DataFrame manipulation\n",
    "import numpy as np # Numerical operations\n",
    "\n",
    "# Data visualization libraries\n",
    "import matplotlib.pyplot as plt # Plotting library\n",
    "import seaborn as sns # For advanced Statistical data visualization \n",
    "\n",
    "# cleaning and processing libraries\n",
    "from sklearn.preprocessing import StandardScaler # Feature scaling\n",
    "from sklearn.model_selection import train_test_split # Train-test split\n",
    "\n",
    "# Modwelling classification libraries\n",
    "from sklearn.linear_model import LogisticRegression # Baseline model\n",
    "from sklearn.tree import DecisionTreeClassifier     # Non-parametric model\n",
    "from sklearn.ensemble import RandomForestClassifier, GradientBoostingClassifier  # Ensemble models\n",
    "from xgboost import XGBClassifier # Optional advanced ensemble model (if allowed)\n",
    "\n",
    "# Model evaluation libraries\n",
    "from sklearn.metrics import accuracy_score, confusion_matrix, f1_score, classification_report # Metrics for evaluation\n",
    "\n",
    "# hyperparameter tuning libraries\n",
    "from sklearn.model_selection import GridSearchCV, RandomizedSearchCV # For hyperparameter tuning\n",
    "\n",
    "# utility / warning libraries\n",
    "import warnings # To suppress warnings\n",
    "warnings.filterwarnings(\"ignore\") # Ignore warnings for cleaner output\n",
    "\n",
    "# ROC and AUC libraries\n",
    "from sklearn.metrics import roc_curve, auc # Import ROC curve and AUC functions\n",
    "from sklearn.metrics import roc_auc_score # Import ROC AUC score function\n",
    "\n",
    "# handling class imbalance\n",
    "from imblearn.over_sampling import SMOTE\n",
    "from collections import Counter\n",
    "\n",
    "# tree visualization libraries\n",
    "from sklearn.tree import plot_tree# Plotting decision trees\n",
    "\n",
    "# Set random seed for reproducibility\n",
    "np.random.seed(42) # Ensures consistent results across runs"
   ]
  },
  {
   "cell_type": "code",
   "execution_count": 3,
   "id": "3cd0502a",
   "metadata": {},
   "outputs": [
    {
     "name": "stdout",
     "output_type": "stream",
     "text": [
      "Dataset loaded successfully. Here are the first few rows:\n"
     ]
    },
    {
     "data": {
      "text/html": [
       "<div>\n",
       "<style scoped>\n",
       "    .dataframe tbody tr th:only-of-type {\n",
       "        vertical-align: middle;\n",
       "    }\n",
       "\n",
       "    .dataframe tbody tr th {\n",
       "        vertical-align: top;\n",
       "    }\n",
       "\n",
       "    .dataframe thead th {\n",
       "        text-align: right;\n",
       "    }\n",
       "</style>\n",
       "<table border=\"1\" class=\"dataframe\">\n",
       "  <thead>\n",
       "    <tr style=\"text-align: right;\">\n",
       "      <th></th>\n",
       "      <th>state</th>\n",
       "      <th>account length</th>\n",
       "      <th>area code</th>\n",
       "      <th>phone number</th>\n",
       "      <th>international plan</th>\n",
       "      <th>voice mail plan</th>\n",
       "      <th>number vmail messages</th>\n",
       "      <th>total day minutes</th>\n",
       "      <th>total day calls</th>\n",
       "      <th>total day charge</th>\n",
       "      <th>...</th>\n",
       "      <th>total eve calls</th>\n",
       "      <th>total eve charge</th>\n",
       "      <th>total night minutes</th>\n",
       "      <th>total night calls</th>\n",
       "      <th>total night charge</th>\n",
       "      <th>total intl minutes</th>\n",
       "      <th>total intl calls</th>\n",
       "      <th>total intl charge</th>\n",
       "      <th>customer service calls</th>\n",
       "      <th>churn</th>\n",
       "    </tr>\n",
       "  </thead>\n",
       "  <tbody>\n",
       "    <tr>\n",
       "      <th>0</th>\n",
       "      <td>KS</td>\n",
       "      <td>128</td>\n",
       "      <td>415</td>\n",
       "      <td>382-4657</td>\n",
       "      <td>no</td>\n",
       "      <td>yes</td>\n",
       "      <td>25</td>\n",
       "      <td>265.1</td>\n",
       "      <td>110</td>\n",
       "      <td>45.07</td>\n",
       "      <td>...</td>\n",
       "      <td>99</td>\n",
       "      <td>16.78</td>\n",
       "      <td>244.7</td>\n",
       "      <td>91</td>\n",
       "      <td>11.01</td>\n",
       "      <td>10.0</td>\n",
       "      <td>3</td>\n",
       "      <td>2.70</td>\n",
       "      <td>1</td>\n",
       "      <td>False</td>\n",
       "    </tr>\n",
       "    <tr>\n",
       "      <th>1</th>\n",
       "      <td>OH</td>\n",
       "      <td>107</td>\n",
       "      <td>415</td>\n",
       "      <td>371-7191</td>\n",
       "      <td>no</td>\n",
       "      <td>yes</td>\n",
       "      <td>26</td>\n",
       "      <td>161.6</td>\n",
       "      <td>123</td>\n",
       "      <td>27.47</td>\n",
       "      <td>...</td>\n",
       "      <td>103</td>\n",
       "      <td>16.62</td>\n",
       "      <td>254.4</td>\n",
       "      <td>103</td>\n",
       "      <td>11.45</td>\n",
       "      <td>13.7</td>\n",
       "      <td>3</td>\n",
       "      <td>3.70</td>\n",
       "      <td>1</td>\n",
       "      <td>False</td>\n",
       "    </tr>\n",
       "    <tr>\n",
       "      <th>2</th>\n",
       "      <td>NJ</td>\n",
       "      <td>137</td>\n",
       "      <td>415</td>\n",
       "      <td>358-1921</td>\n",
       "      <td>no</td>\n",
       "      <td>no</td>\n",
       "      <td>0</td>\n",
       "      <td>243.4</td>\n",
       "      <td>114</td>\n",
       "      <td>41.38</td>\n",
       "      <td>...</td>\n",
       "      <td>110</td>\n",
       "      <td>10.30</td>\n",
       "      <td>162.6</td>\n",
       "      <td>104</td>\n",
       "      <td>7.32</td>\n",
       "      <td>12.2</td>\n",
       "      <td>5</td>\n",
       "      <td>3.29</td>\n",
       "      <td>0</td>\n",
       "      <td>False</td>\n",
       "    </tr>\n",
       "    <tr>\n",
       "      <th>3</th>\n",
       "      <td>OH</td>\n",
       "      <td>84</td>\n",
       "      <td>408</td>\n",
       "      <td>375-9999</td>\n",
       "      <td>yes</td>\n",
       "      <td>no</td>\n",
       "      <td>0</td>\n",
       "      <td>299.4</td>\n",
       "      <td>71</td>\n",
       "      <td>50.90</td>\n",
       "      <td>...</td>\n",
       "      <td>88</td>\n",
       "      <td>5.26</td>\n",
       "      <td>196.9</td>\n",
       "      <td>89</td>\n",
       "      <td>8.86</td>\n",
       "      <td>6.6</td>\n",
       "      <td>7</td>\n",
       "      <td>1.78</td>\n",
       "      <td>2</td>\n",
       "      <td>False</td>\n",
       "    </tr>\n",
       "    <tr>\n",
       "      <th>4</th>\n",
       "      <td>OK</td>\n",
       "      <td>75</td>\n",
       "      <td>415</td>\n",
       "      <td>330-6626</td>\n",
       "      <td>yes</td>\n",
       "      <td>no</td>\n",
       "      <td>0</td>\n",
       "      <td>166.7</td>\n",
       "      <td>113</td>\n",
       "      <td>28.34</td>\n",
       "      <td>...</td>\n",
       "      <td>122</td>\n",
       "      <td>12.61</td>\n",
       "      <td>186.9</td>\n",
       "      <td>121</td>\n",
       "      <td>8.41</td>\n",
       "      <td>10.1</td>\n",
       "      <td>3</td>\n",
       "      <td>2.73</td>\n",
       "      <td>3</td>\n",
       "      <td>False</td>\n",
       "    </tr>\n",
       "  </tbody>\n",
       "</table>\n",
       "<p>5 rows × 21 columns</p>\n",
       "</div>"
      ],
      "text/plain": [
       "  state  account length  area code phone number international plan  \\\n",
       "0    KS             128        415     382-4657                 no   \n",
       "1    OH             107        415     371-7191                 no   \n",
       "2    NJ             137        415     358-1921                 no   \n",
       "3    OH              84        408     375-9999                yes   \n",
       "4    OK              75        415     330-6626                yes   \n",
       "\n",
       "  voice mail plan  number vmail messages  total day minutes  total day calls  \\\n",
       "0             yes                     25              265.1              110   \n",
       "1             yes                     26              161.6              123   \n",
       "2              no                      0              243.4              114   \n",
       "3              no                      0              299.4               71   \n",
       "4              no                      0              166.7              113   \n",
       "\n",
       "   total day charge  ...  total eve calls  total eve charge  \\\n",
       "0             45.07  ...               99             16.78   \n",
       "1             27.47  ...              103             16.62   \n",
       "2             41.38  ...              110             10.30   \n",
       "3             50.90  ...               88              5.26   \n",
       "4             28.34  ...              122             12.61   \n",
       "\n",
       "   total night minutes  total night calls  total night charge  \\\n",
       "0                244.7                 91               11.01   \n",
       "1                254.4                103               11.45   \n",
       "2                162.6                104                7.32   \n",
       "3                196.9                 89                8.86   \n",
       "4                186.9                121                8.41   \n",
       "\n",
       "   total intl minutes  total intl calls  total intl charge  \\\n",
       "0                10.0                 3               2.70   \n",
       "1                13.7                 3               3.70   \n",
       "2                12.2                 5               3.29   \n",
       "3                 6.6                 7               1.78   \n",
       "4                10.1                 3               2.73   \n",
       "\n",
       "   customer service calls  churn  \n",
       "0                       1  False  \n",
       "1                       1  False  \n",
       "2                       0  False  \n",
       "3                       2  False  \n",
       "4                       3  False  \n",
       "\n",
       "[5 rows x 21 columns]"
      ]
     },
     "execution_count": 3,
     "metadata": {},
     "output_type": "execute_result"
    }
   ],
   "source": [
    "# data loading\n",
    "df = pd.read_csv(\"bigml_59c28831336c6604c800002a.csv\") # Load dataset\n",
    "# Display the first few rows of the dataset\n",
    "print(\"Dataset loaded successfully. Here are the first few rows:\")\n",
    "df.head()"
   ]
  },
  {
   "cell_type": "code",
   "execution_count": 4,
   "id": "87fa0d35",
   "metadata": {},
   "outputs": [
    {
     "name": "stdout",
     "output_type": "stream",
     "text": [
      "<class 'pandas.core.frame.DataFrame'>\n",
      "RangeIndex: 3333 entries, 0 to 3332\n",
      "Data columns (total 21 columns):\n",
      " #   Column                  Non-Null Count  Dtype  \n",
      "---  ------                  --------------  -----  \n",
      " 0   state                   3333 non-null   object \n",
      " 1   account length          3333 non-null   int64  \n",
      " 2   area code               3333 non-null   int64  \n",
      " 3   phone number            3333 non-null   object \n",
      " 4   international plan      3333 non-null   object \n",
      " 5   voice mail plan         3333 non-null   object \n",
      " 6   number vmail messages   3333 non-null   int64  \n",
      " 7   total day minutes       3333 non-null   float64\n",
      " 8   total day calls         3333 non-null   int64  \n",
      " 9   total day charge        3333 non-null   float64\n",
      " 10  total eve minutes       3333 non-null   float64\n",
      " 11  total eve calls         3333 non-null   int64  \n",
      " 12  total eve charge        3333 non-null   float64\n",
      " 13  total night minutes     3333 non-null   float64\n",
      " 14  total night calls       3333 non-null   int64  \n",
      " 15  total night charge      3333 non-null   float64\n",
      " 16  total intl minutes      3333 non-null   float64\n",
      " 17  total intl calls        3333 non-null   int64  \n",
      " 18  total intl charge       3333 non-null   float64\n",
      " 19  customer service calls  3333 non-null   int64  \n",
      " 20  churn                   3333 non-null   bool   \n",
      "dtypes: bool(1), float64(8), int64(8), object(4)\n",
      "memory usage: 524.2+ KB\n"
     ]
    }
   ],
   "source": [
    "# data description\n",
    "df.info() # Display dataset information"
   ]
  },
  {
   "cell_type": "markdown",
   "id": "31d3d24f",
   "metadata": {},
   "source": [
    "- The Dataset have `3333` rows, `21` columns."
   ]
  },
  {
   "cell_type": "code",
   "execution_count": 5,
   "id": "be7f0221",
   "metadata": {},
   "outputs": [
    {
     "name": "stdout",
     "output_type": "stream",
     "text": [
      "there are no missing values in the dataset.\n"
     ]
    }
   ],
   "source": [
    "# check for missing values\n",
    "print(\"there are no missing values in the dataset.\"if df.isnull().sum().sum() == 0 else \"There are missing values in the dataset.\")"
   ]
  },
  {
   "cell_type": "code",
   "execution_count": 6,
   "id": "0f225cd7",
   "metadata": {},
   "outputs": [
    {
     "name": "stdout",
     "output_type": "stream",
     "text": [
      "there are no duplicate rows in the dataset.\n"
     ]
    }
   ],
   "source": [
    "# check for duplicates\n",
    "print(\"there are no duplicate rows in the dataset.\" if df.duplicated().sum() == 0 else \"There are duplicate rows in the dataset.\")\n"
   ]
  },
  {
   "cell_type": "markdown",
   "id": "75116e37",
   "metadata": {},
   "source": [
    "## Dropping Irrelevant Columns\n",
    "\n",
    "Before conducting exploratory analysis, it's important to remove columns that do not contribute meaningful information to our classification task. In this dataset, the following columns were dropped:\n",
    "\n",
    "- **Area code**: Area code is more of a geographical identifier with little predictive power.\n",
    "- **Phone number**: This is a unique identifier for each customer and holds no analytical value for churn modeling.\n",
    "\n",
    "Removing these columns helps simplify the dataset, avoid noise, and ensures we focus only on relevant features for predicting customer churn.\n"
   ]
  },
  {
   "cell_type": "code",
   "execution_count": 7,
   "id": "9aa8d0d9",
   "metadata": {},
   "outputs": [],
   "source": [
    "# Dropping columns that are irrelevant for churn prediction\n",
    "df = df.drop(columns=['area code', 'phone number'])"
   ]
  },
  {
   "cell_type": "code",
   "execution_count": 8,
   "id": "7326fd71",
   "metadata": {},
   "outputs": [
    {
     "data": {
      "text/plain": [
       "(3333, 19)"
      ]
     },
     "execution_count": 8,
     "metadata": {},
     "output_type": "execute_result"
    }
   ],
   "source": [
    "df.shape # Display the shape of the dataset after dropping columns"
   ]
  },
  {
   "cell_type": "code",
   "execution_count": 9,
   "id": "96c0a8f7",
   "metadata": {},
   "outputs": [
    {
     "name": "stdout",
     "output_type": "stream",
     "text": [
      "Class distribution:\n",
      "False    0.855086\n",
      "True     0.144914\n",
      "Name: churn, dtype: float64\n"
     ]
    }
   ],
   "source": [
    "# check the imbalance of the dataset\n",
    "print(\"Class distribution:\")\n",
    "print(df['churn'].value_counts(normalize=True)) "
   ]
  },
  {
   "cell_type": "markdown",
   "id": "0aa3816d",
   "metadata": {},
   "source": [
    "- The above results implies:\n",
    ">* 85.5% of the customers did not churn (churn = False)\n",
    ">* 14.5% of the customers did churn (churn = True)\n",
    "\n",
    "- This is an imbalanced dataset. The majority class (False) significantly outweighs the minority class (True).\n",
    "-  A visual display will help for better understanding  of the imbalance in the dataset"
   ]
  },
  {
   "cell_type": "code",
   "execution_count": 10,
   "id": "00bca601",
   "metadata": {},
   "outputs": [
    {
     "data": {
      "image/png": "[encoded data removed]",
      "text/plain": [
       "<Figure size 576x360 with 1 Axes>"
      ]
     },
     "metadata": {
      "needs_background": "light"
     },
     "output_type": "display_data"
    }
   ],
   "source": [
    "# visualize the class distribution\n",
    "plt.figure(figsize=(8, 5))\n",
    "plt.bar(x=df['churn'].unique(),height = round(df[\"churn\"].value_counts(normalize=True)*100, 2))\n",
    "plt.xticks(ticks=[0, 1], labels=['Not Churned(False)', 'Churned(True)'])\n",
    "plt.title(\"Class Distribution in %\")\n",
    "plt.xlabel(\"Churn\")\n",
    "plt.ylabel(\"percentage(%)\")\n",
    "plt.show()\n"
   ]
  },
  {
   "cell_type": "markdown",
   "id": "76f30371",
   "metadata": {},
   "source": [
    "- **Calculate the percentage of churn versus non-churn customers in each state.**\n",
    "This tells how churn behavior differs by geography, which can inform targeted retention effort.\n",
    "\n"
   ]
  },
  {
   "cell_type": "code",
   "execution_count": 11,
   "id": "d2a25509",
   "metadata": {},
   "outputs": [
    {
     "data": {
      "text/html": [
       "<div>\n",
       "<style scoped>\n",
       "    .dataframe tbody tr th:only-of-type {\n",
       "        vertical-align: middle;\n",
       "    }\n",
       "\n",
       "    .dataframe tbody tr th {\n",
       "        vertical-align: top;\n",
       "    }\n",
       "\n",
       "    .dataframe thead th {\n",
       "        text-align: right;\n",
       "    }\n",
       "</style>\n",
       "<table border=\"1\" class=\"dataframe\">\n",
       "  <thead>\n",
       "    <tr style=\"text-align: right;\">\n",
       "      <th>churn</th>\n",
       "      <th>False</th>\n",
       "      <th>True</th>\n",
       "    </tr>\n",
       "    <tr>\n",
       "      <th>state</th>\n",
       "      <th></th>\n",
       "      <th></th>\n",
       "    </tr>\n",
       "  </thead>\n",
       "  <tbody>\n",
       "    <tr>\n",
       "      <th>AK</th>\n",
       "      <td>0.942308</td>\n",
       "      <td>0.057692</td>\n",
       "    </tr>\n",
       "    <tr>\n",
       "      <th>AL</th>\n",
       "      <td>0.900000</td>\n",
       "      <td>0.100000</td>\n",
       "    </tr>\n",
       "    <tr>\n",
       "      <th>AR</th>\n",
       "      <td>0.800000</td>\n",
       "      <td>0.200000</td>\n",
       "    </tr>\n",
       "    <tr>\n",
       "      <th>AZ</th>\n",
       "      <td>0.937500</td>\n",
       "      <td>0.062500</td>\n",
       "    </tr>\n",
       "    <tr>\n",
       "      <th>CA</th>\n",
       "      <td>0.735294</td>\n",
       "      <td>0.264706</td>\n",
       "    </tr>\n",
       "    <tr>\n",
       "      <th>CO</th>\n",
       "      <td>0.863636</td>\n",
       "      <td>0.136364</td>\n",
       "    </tr>\n",
       "    <tr>\n",
       "      <th>CT</th>\n",
       "      <td>0.837838</td>\n",
       "      <td>0.162162</td>\n",
       "    </tr>\n",
       "    <tr>\n",
       "      <th>DC</th>\n",
       "      <td>0.907407</td>\n",
       "      <td>0.092593</td>\n",
       "    </tr>\n",
       "    <tr>\n",
       "      <th>DE</th>\n",
       "      <td>0.852459</td>\n",
       "      <td>0.147541</td>\n",
       "    </tr>\n",
       "    <tr>\n",
       "      <th>FL</th>\n",
       "      <td>0.873016</td>\n",
       "      <td>0.126984</td>\n",
       "    </tr>\n",
       "  </tbody>\n",
       "</table>\n",
       "</div>"
      ],
      "text/plain": [
       "churn     False     True \n",
       "state                    \n",
       "AK     0.942308  0.057692\n",
       "AL     0.900000  0.100000\n",
       "AR     0.800000  0.200000\n",
       "AZ     0.937500  0.062500\n",
       "CA     0.735294  0.264706\n",
       "CO     0.863636  0.136364\n",
       "CT     0.837838  0.162162\n",
       "DC     0.907407  0.092593\n",
       "DE     0.852459  0.147541\n",
       "FL     0.873016  0.126984"
      ]
     },
     "execution_count": 11,
     "metadata": {},
     "output_type": "execute_result"
    }
   ],
   "source": [
    "#calculate the percentage of churn and non-churn in each state\n",
    "states = df.groupby('state')['churn'].value_counts(normalize=True)\n",
    "states = pd.DataFrame(states)\n",
    "states.columns = ['percentage']\n",
    "states = states.reset_index()\n",
    "# Pivot the DataFrame to have states as rows and churn status as columns\n",
    "states_pivot = states.pivot(index='state', columns='churn', values='percentage').fillna(0)\n",
    "states_pivot.head(10)  # Display the first 10 rows of the pivot table"
   ]
  },
  {
   "cell_type": "markdown",
   "id": "74090ab2",
   "metadata": {},
   "source": [
    "**Aggregate customer usage features**\n",
    "- The aggregated features gives a clear picture of overall usage behavior which is more useful for modelling than analyzing every time.\n"
   ]
  },
  {
   "cell_type": "code",
   "execution_count": 12,
   "id": "d17aa93f",
   "metadata": {},
   "outputs": [],
   "source": [
    "# Total domestic minutes for each customer\n",
    "df['total_domestic_minutes'] = df['total day minutes'] + df['total eve minutes'] + df['total night minutes'] + df['total intl minutes']\n",
    "# Total domestic calls for each customer\n",
    "df['total_domestic_calls'] = df['total day calls'] + df['total eve calls'] + df['total night calls'] + df['total intl calls']\n",
    "# Total domestic charge for each customer\n",
    "df['total_domestic_charge'] = df['total day charge'] + df['total eve charge'] + df['total night charge'] + df['total intl charge']\n",
    "# Total charge for each customer\n",
    "df['total_charge'] = df['total_domestic_charge'] + df['total intl charge']\n"
   ]
  },
  {
   "cell_type": "markdown",
   "id": "29daff63",
   "metadata": {},
   "source": [
    "**Categorize state by severity**\n",
    "- Any state with `> 20%` churn is considered high risk, this is useful for priority targeting.\n",
    "- For states with `15%-20%`, churn is flagged as moderate risk, which deserves attention."
   ]
  },
  {
   "cell_type": "code",
   "execution_count": 13,
   "id": "fc80dab2",
   "metadata": {},
   "outputs": [
    {
     "name": "stdout",
     "output_type": "stream",
     "text": [
      "  state  churn  percentage\n",
      "0    AK  False    0.942308\n",
      "1    AK   True    0.057692\n",
      "2    AL  False    0.900000\n",
      "3    AL   True    0.100000\n",
      "4    AR  False    0.800000\n"
     ]
    }
   ],
   "source": [
    "print(states.head()) "
   ]
  },
  {
   "cell_type": "code",
   "execution_count": 14,
   "id": "18e77d00",
   "metadata": {},
   "outputs": [
    {
     "name": "stdout",
     "output_type": "stream",
     "text": [
      "High churn states (≥ 20% churn):\n",
      "['NJ', 'CA', 'TX', 'MD', 'SC', 'MI', 'MS', 'NV', 'WA', 'ME', 'MT', 'AR']\n"
     ]
    }
   ],
   "source": [
    "# Filter for churned customers and sort by churn rate\n",
    "states_churn_rate = states[(states['churn'] == True)].sort_values(by='percentage', ascending=False).reset_index(drop=True)\n",
    "\n",
    "# Identify high-churn states (20% or more churn)\n",
    "high_churn_states = states_churn_rate[states_churn_rate['percentage'] >= 0.20]['state'].tolist()\n",
    "\n",
    "# Display the result\n",
    "print(\"High churn states (≥ 20% churn):\")\n",
    "print(high_churn_states)"
   ]
  },
  {
   "cell_type": "code",
   "execution_count": 15,
   "id": "d2303c66",
   "metadata": {},
   "outputs": [
    {
     "name": "stdout",
     "output_type": "stream",
     "text": [
      "Medium churn states (15% to < 20% churn):\n",
      "['KS', 'NY', 'MN', 'PA', 'MA', 'CT', 'NC', 'NH']\n"
     ]
    }
   ],
   "source": [
    "# for states with 15% to 20% churn, we will consider them as medium churn states\n",
    "medium_churn_states = states_churn_rate[(states_churn_rate['percentage'] >= 0.15) & (states_churn_rate['percentage'] < 0.20)]['state'].tolist()\n",
    "# Display the result\n",
    "print(\"Medium churn states (15% to < 20% churn):\")\n",
    "print(medium_churn_states)"
   ]
  },
  {
   "cell_type": "code",
   "execution_count": 16,
   "id": "6965e96a",
   "metadata": {},
   "outputs": [
    {
     "name": "stdout",
     "output_type": "stream",
     "text": [
      "Midlow churn states (10% to < 15% churn):\n",
      "['GA', 'DE', 'OK', 'OR', 'UT', 'CO', 'KY', 'SD', 'OH', 'FL', 'IN', 'ID', 'WY', 'MO', 'VT', 'AL']\n"
     ]
    }
   ],
   "source": [
    "# the  midlow churn states\n",
    "midlow_churn_states = states_churn_rate[(states_churn_rate['percentage'] >= 0.10) & (states_churn_rate['percentage'] < 0.15)]['state'].tolist()\n",
    "# Display the result\n",
    "print(\"Midlow churn states (10% to < 15% churn):\")\n",
    "print(midlow_churn_states)"
   ]
  },
  {
   "cell_type": "code",
   "execution_count": 17,
   "id": "f2aad1b7",
   "metadata": {},
   "outputs": [
    {
     "name": "stdout",
     "output_type": "stream",
     "text": [
      "Low churn states (< 10% churn):\n",
      "['NM', 'ND', 'WV', 'TN', 'DC', 'RI', 'WI', 'IL', 'NE', 'LA', 'IA', 'VA', 'AZ', 'AK', 'HI']\n"
     ]
    }
   ],
   "source": [
    "# the lastsplit of states with less than 10% churn\n",
    "low_churn_states = states_churn_rate[states_churn_rate['percentage'] < 0.10]['state'].tolist()\n",
    "# Display the result\n",
    "print(\"Low churn states (< 10% churn):\")\n",
    "print(low_churn_states)"
   ]
  },
  {
   "cell_type": "markdown",
   "id": "04bb61dc",
   "metadata": {},
   "source": [
    "***Categorize() Function:***\n"
   ]
  },
  {
   "cell_type": "code",
   "execution_count": 18,
   "id": "9083e063",
   "metadata": {},
   "outputs": [],
   "source": [
    "# assign states to churn rate cateogories\n",
    "def assign_churn_category(state):\n",
    "    if state in high_churn_states:\n",
    "        return 'High Churn'\n",
    "    elif state in medium_churn_states:\n",
    "        return 'Medium Churn'\n",
    "    elif state in midlow_churn_states:\n",
    "        return 'Midlow Churn'\n",
    "    else:\n",
    "        return 'Low Churn'\n",
    "    return state"
   ]
  },
  {
   "cell_type": "markdown",
   "id": "dac3e40e",
   "metadata": {},
   "source": [
    "***Categorize(df) Function***"
   ]
  },
  {
   "cell_type": "code",
   "execution_count": 19,
   "id": "ef8879f6",
   "metadata": {},
   "outputs": [
    {
     "data": {
      "text/html": [
       "<div>\n",
       "<style scoped>\n",
       "    .dataframe tbody tr th:only-of-type {\n",
       "        vertical-align: middle;\n",
       "    }\n",
       "\n",
       "    .dataframe tbody tr th {\n",
       "        vertical-align: top;\n",
       "    }\n",
       "\n",
       "    .dataframe thead th {\n",
       "        text-align: right;\n",
       "    }\n",
       "</style>\n",
       "<table border=\"1\" class=\"dataframe\">\n",
       "  <thead>\n",
       "    <tr style=\"text-align: right;\">\n",
       "      <th></th>\n",
       "      <th>state</th>\n",
       "      <th>account length</th>\n",
       "      <th>international plan</th>\n",
       "      <th>voice mail plan</th>\n",
       "      <th>number vmail messages</th>\n",
       "      <th>total day minutes</th>\n",
       "      <th>total day calls</th>\n",
       "      <th>total day charge</th>\n",
       "      <th>total eve minutes</th>\n",
       "      <th>total eve calls</th>\n",
       "      <th>...</th>\n",
       "      <th>total intl minutes</th>\n",
       "      <th>total intl calls</th>\n",
       "      <th>total intl charge</th>\n",
       "      <th>customer service calls</th>\n",
       "      <th>churn</th>\n",
       "      <th>total_domestic_minutes</th>\n",
       "      <th>total_domestic_calls</th>\n",
       "      <th>total_domestic_charge</th>\n",
       "      <th>total_charge</th>\n",
       "      <th>churn_rate_category</th>\n",
       "    </tr>\n",
       "  </thead>\n",
       "  <tbody>\n",
       "    <tr>\n",
       "      <th>0</th>\n",
       "      <td>KS</td>\n",
       "      <td>128</td>\n",
       "      <td>no</td>\n",
       "      <td>yes</td>\n",
       "      <td>25</td>\n",
       "      <td>265.1</td>\n",
       "      <td>110</td>\n",
       "      <td>45.07</td>\n",
       "      <td>197.4</td>\n",
       "      <td>99</td>\n",
       "      <td>...</td>\n",
       "      <td>10.0</td>\n",
       "      <td>3</td>\n",
       "      <td>2.70</td>\n",
       "      <td>1</td>\n",
       "      <td>False</td>\n",
       "      <td>717.2</td>\n",
       "      <td>303</td>\n",
       "      <td>75.56</td>\n",
       "      <td>78.26</td>\n",
       "      <td>Medium Churn</td>\n",
       "    </tr>\n",
       "    <tr>\n",
       "      <th>1</th>\n",
       "      <td>OH</td>\n",
       "      <td>107</td>\n",
       "      <td>no</td>\n",
       "      <td>yes</td>\n",
       "      <td>26</td>\n",
       "      <td>161.6</td>\n",
       "      <td>123</td>\n",
       "      <td>27.47</td>\n",
       "      <td>195.5</td>\n",
       "      <td>103</td>\n",
       "      <td>...</td>\n",
       "      <td>13.7</td>\n",
       "      <td>3</td>\n",
       "      <td>3.70</td>\n",
       "      <td>1</td>\n",
       "      <td>False</td>\n",
       "      <td>625.2</td>\n",
       "      <td>332</td>\n",
       "      <td>59.24</td>\n",
       "      <td>62.94</td>\n",
       "      <td>Midlow Churn</td>\n",
       "    </tr>\n",
       "    <tr>\n",
       "      <th>2</th>\n",
       "      <td>NJ</td>\n",
       "      <td>137</td>\n",
       "      <td>no</td>\n",
       "      <td>no</td>\n",
       "      <td>0</td>\n",
       "      <td>243.4</td>\n",
       "      <td>114</td>\n",
       "      <td>41.38</td>\n",
       "      <td>121.2</td>\n",
       "      <td>110</td>\n",
       "      <td>...</td>\n",
       "      <td>12.2</td>\n",
       "      <td>5</td>\n",
       "      <td>3.29</td>\n",
       "      <td>0</td>\n",
       "      <td>False</td>\n",
       "      <td>539.4</td>\n",
       "      <td>333</td>\n",
       "      <td>62.29</td>\n",
       "      <td>65.58</td>\n",
       "      <td>High Churn</td>\n",
       "    </tr>\n",
       "    <tr>\n",
       "      <th>3</th>\n",
       "      <td>OH</td>\n",
       "      <td>84</td>\n",
       "      <td>yes</td>\n",
       "      <td>no</td>\n",
       "      <td>0</td>\n",
       "      <td>299.4</td>\n",
       "      <td>71</td>\n",
       "      <td>50.90</td>\n",
       "      <td>61.9</td>\n",
       "      <td>88</td>\n",
       "      <td>...</td>\n",
       "      <td>6.6</td>\n",
       "      <td>7</td>\n",
       "      <td>1.78</td>\n",
       "      <td>2</td>\n",
       "      <td>False</td>\n",
       "      <td>564.8</td>\n",
       "      <td>255</td>\n",
       "      <td>66.80</td>\n",
       "      <td>68.58</td>\n",
       "      <td>Midlow Churn</td>\n",
       "    </tr>\n",
       "    <tr>\n",
       "      <th>4</th>\n",
       "      <td>OK</td>\n",
       "      <td>75</td>\n",
       "      <td>yes</td>\n",
       "      <td>no</td>\n",
       "      <td>0</td>\n",
       "      <td>166.7</td>\n",
       "      <td>113</td>\n",
       "      <td>28.34</td>\n",
       "      <td>148.3</td>\n",
       "      <td>122</td>\n",
       "      <td>...</td>\n",
       "      <td>10.1</td>\n",
       "      <td>3</td>\n",
       "      <td>2.73</td>\n",
       "      <td>3</td>\n",
       "      <td>False</td>\n",
       "      <td>512.0</td>\n",
       "      <td>359</td>\n",
       "      <td>52.09</td>\n",
       "      <td>54.82</td>\n",
       "      <td>Midlow Churn</td>\n",
       "    </tr>\n",
       "    <tr>\n",
       "      <th>...</th>\n",
       "      <td>...</td>\n",
       "      <td>...</td>\n",
       "      <td>...</td>\n",
       "      <td>...</td>\n",
       "      <td>...</td>\n",
       "      <td>...</td>\n",
       "      <td>...</td>\n",
       "      <td>...</td>\n",
       "      <td>...</td>\n",
       "      <td>...</td>\n",
       "      <td>...</td>\n",
       "      <td>...</td>\n",
       "      <td>...</td>\n",
       "      <td>...</td>\n",
       "      <td>...</td>\n",
       "      <td>...</td>\n",
       "      <td>...</td>\n",
       "      <td>...</td>\n",
       "      <td>...</td>\n",
       "      <td>...</td>\n",
       "      <td>...</td>\n",
       "    </tr>\n",
       "    <tr>\n",
       "      <th>3328</th>\n",
       "      <td>AZ</td>\n",
       "      <td>192</td>\n",
       "      <td>no</td>\n",
       "      <td>yes</td>\n",
       "      <td>36</td>\n",
       "      <td>156.2</td>\n",
       "      <td>77</td>\n",
       "      <td>26.55</td>\n",
       "      <td>215.5</td>\n",
       "      <td>126</td>\n",
       "      <td>...</td>\n",
       "      <td>9.9</td>\n",
       "      <td>6</td>\n",
       "      <td>2.67</td>\n",
       "      <td>2</td>\n",
       "      <td>False</td>\n",
       "      <td>660.7</td>\n",
       "      <td>292</td>\n",
       "      <td>60.10</td>\n",
       "      <td>62.77</td>\n",
       "      <td>Low Churn</td>\n",
       "    </tr>\n",
       "    <tr>\n",
       "      <th>3329</th>\n",
       "      <td>WV</td>\n",
       "      <td>68</td>\n",
       "      <td>no</td>\n",
       "      <td>no</td>\n",
       "      <td>0</td>\n",
       "      <td>231.1</td>\n",
       "      <td>57</td>\n",
       "      <td>39.29</td>\n",
       "      <td>153.4</td>\n",
       "      <td>55</td>\n",
       "      <td>...</td>\n",
       "      <td>9.6</td>\n",
       "      <td>4</td>\n",
       "      <td>2.59</td>\n",
       "      <td>3</td>\n",
       "      <td>False</td>\n",
       "      <td>585.4</td>\n",
       "      <td>239</td>\n",
       "      <td>63.53</td>\n",
       "      <td>66.12</td>\n",
       "      <td>Low Churn</td>\n",
       "    </tr>\n",
       "    <tr>\n",
       "      <th>3330</th>\n",
       "      <td>RI</td>\n",
       "      <td>28</td>\n",
       "      <td>no</td>\n",
       "      <td>no</td>\n",
       "      <td>0</td>\n",
       "      <td>180.8</td>\n",
       "      <td>109</td>\n",
       "      <td>30.74</td>\n",
       "      <td>288.8</td>\n",
       "      <td>58</td>\n",
       "      <td>...</td>\n",
       "      <td>14.1</td>\n",
       "      <td>6</td>\n",
       "      <td>3.81</td>\n",
       "      <td>2</td>\n",
       "      <td>False</td>\n",
       "      <td>675.6</td>\n",
       "      <td>264</td>\n",
       "      <td>67.74</td>\n",
       "      <td>71.55</td>\n",
       "      <td>Low Churn</td>\n",
       "    </tr>\n",
       "    <tr>\n",
       "      <th>3331</th>\n",
       "      <td>CT</td>\n",
       "      <td>184</td>\n",
       "      <td>yes</td>\n",
       "      <td>no</td>\n",
       "      <td>0</td>\n",
       "      <td>213.8</td>\n",
       "      <td>105</td>\n",
       "      <td>36.35</td>\n",
       "      <td>159.6</td>\n",
       "      <td>84</td>\n",
       "      <td>...</td>\n",
       "      <td>5.0</td>\n",
       "      <td>10</td>\n",
       "      <td>1.35</td>\n",
       "      <td>2</td>\n",
       "      <td>False</td>\n",
       "      <td>517.6</td>\n",
       "      <td>336</td>\n",
       "      <td>57.53</td>\n",
       "      <td>58.88</td>\n",
       "      <td>Medium Churn</td>\n",
       "    </tr>\n",
       "    <tr>\n",
       "      <th>3332</th>\n",
       "      <td>TN</td>\n",
       "      <td>74</td>\n",
       "      <td>no</td>\n",
       "      <td>yes</td>\n",
       "      <td>25</td>\n",
       "      <td>234.4</td>\n",
       "      <td>113</td>\n",
       "      <td>39.85</td>\n",
       "      <td>265.9</td>\n",
       "      <td>82</td>\n",
       "      <td>...</td>\n",
       "      <td>13.7</td>\n",
       "      <td>4</td>\n",
       "      <td>3.70</td>\n",
       "      <td>0</td>\n",
       "      <td>False</td>\n",
       "      <td>755.4</td>\n",
       "      <td>276</td>\n",
       "      <td>77.01</td>\n",
       "      <td>80.71</td>\n",
       "      <td>Low Churn</td>\n",
       "    </tr>\n",
       "  </tbody>\n",
       "</table>\n",
       "<p>3333 rows × 24 columns</p>\n",
       "</div>"
      ],
      "text/plain": [
       "     state  account length international plan voice mail plan  \\\n",
       "0       KS             128                 no             yes   \n",
       "1       OH             107                 no             yes   \n",
       "2       NJ             137                 no              no   \n",
       "3       OH              84                yes              no   \n",
       "4       OK              75                yes              no   \n",
       "...    ...             ...                ...             ...   \n",
       "3328    AZ             192                 no             yes   \n",
       "3329    WV              68                 no              no   \n",
       "3330    RI              28                 no              no   \n",
       "3331    CT             184                yes              no   \n",
       "3332    TN              74                 no             yes   \n",
       "\n",
       "      number vmail messages  total day minutes  total day calls  \\\n",
       "0                        25              265.1              110   \n",
       "1                        26              161.6              123   \n",
       "2                         0              243.4              114   \n",
       "3                         0              299.4               71   \n",
       "4                         0              166.7              113   \n",
       "...                     ...                ...              ...   \n",
       "3328                     36              156.2               77   \n",
       "3329                      0              231.1               57   \n",
       "3330                      0              180.8              109   \n",
       "3331                      0              213.8              105   \n",
       "3332                     25              234.4              113   \n",
       "\n",
       "      total day charge  total eve minutes  total eve calls  ...  \\\n",
       "0                45.07              197.4               99  ...   \n",
       "1                27.47              195.5              103  ...   \n",
       "2                41.38              121.2              110  ...   \n",
       "3                50.90               61.9               88  ...   \n",
       "4                28.34              148.3              122  ...   \n",
       "...                ...                ...              ...  ...   \n",
       "3328             26.55              215.5              126  ...   \n",
       "3329             39.29              153.4               55  ...   \n",
       "3330             30.74              288.8               58  ...   \n",
       "3331             36.35              159.6               84  ...   \n",
       "3332             39.85              265.9               82  ...   \n",
       "\n",
       "      total intl minutes  total intl calls  total intl charge  \\\n",
       "0                   10.0                 3               2.70   \n",
       "1                   13.7                 3               3.70   \n",
       "2                   12.2                 5               3.29   \n",
       "3                    6.6                 7               1.78   \n",
       "4                   10.1                 3               2.73   \n",
       "...                  ...               ...                ...   \n",
       "3328                 9.9                 6               2.67   \n",
       "3329                 9.6                 4               2.59   \n",
       "3330                14.1                 6               3.81   \n",
       "3331                 5.0                10               1.35   \n",
       "3332                13.7                 4               3.70   \n",
       "\n",
       "      customer service calls  churn  total_domestic_minutes  \\\n",
       "0                          1  False                   717.2   \n",
       "1                          1  False                   625.2   \n",
       "2                          0  False                   539.4   \n",
       "3                          2  False                   564.8   \n",
       "4                          3  False                   512.0   \n",
       "...                      ...    ...                     ...   \n",
       "3328                       2  False                   660.7   \n",
       "3329                       3  False                   585.4   \n",
       "3330                       2  False                   675.6   \n",
       "3331                       2  False                   517.6   \n",
       "3332                       0  False                   755.4   \n",
       "\n",
       "      total_domestic_calls  total_domestic_charge  total_charge  \\\n",
       "0                      303                  75.56         78.26   \n",
       "1                      332                  59.24         62.94   \n",
       "2                      333                  62.29         65.58   \n",
       "3                      255                  66.80         68.58   \n",
       "4                      359                  52.09         54.82   \n",
       "...                    ...                    ...           ...   \n",
       "3328                   292                  60.10         62.77   \n",
       "3329                   239                  63.53         66.12   \n",
       "3330                   264                  67.74         71.55   \n",
       "3331                   336                  57.53         58.88   \n",
       "3332                   276                  77.01         80.71   \n",
       "\n",
       "      churn_rate_category  \n",
       "0            Medium Churn  \n",
       "1            Midlow Churn  \n",
       "2              High Churn  \n",
       "3            Midlow Churn  \n",
       "4            Midlow Churn  \n",
       "...                   ...  \n",
       "3328            Low Churn  \n",
       "3329            Low Churn  \n",
       "3330            Low Churn  \n",
       "3331         Medium Churn  \n",
       "3332            Low Churn  \n",
       "\n",
       "[3333 rows x 24 columns]"
      ]
     },
     "execution_count": 19,
     "metadata": {},
     "output_type": "execute_result"
    }
   ],
   "source": [
    "# apply categorize() to the state column and add a new column 'churn_rate_category'\n",
    "def categorize(df):\n",
    "    df['churn_rate_category'] = df['state'].apply(assign_churn_category)\n",
    "    return df\n",
    "# apply categorize() to the DataFrame\n",
    "df = categorize(df)\n",
    "categorize(df)\n"
   ]
  },
  {
   "cell_type": "code",
   "execution_count": 20,
   "id": "8a41e037",
   "metadata": {},
   "outputs": [],
   "source": [
    "# save the new df to csv file\n",
    "df.to_csv(\"bigml_59c28831336c6604c800002a_with_churn_rate_category.csv\", index=False)"
   ]
  },
  {
   "cell_type": "markdown",
   "id": "e05bbd8a",
   "metadata": {},
   "source": [
    "## Exploratory Data Analysis.\n",
    "- Visualize how customer service interactions frequency related to churn behavior.\n",
    "- The new column, `churn_rate_category` is used to group or compare distributions by churn risk, for example, `are customers in high churn states calling more?`"
   ]
  },
  {
   "cell_type": "code",
   "execution_count": 21,
   "id": "5b14632e",
   "metadata": {},
   "outputs": [
    {
     "name": "stdout",
     "output_type": "stream",
     "text": [
      "High churn states have a visibly higher proportion of churned customers compared to the other categories.\n",
      "Low churn states have the smallest number of churned customers.\n",
      "This categorization helps identify which states are at higher risk and may need targeted retention strategies.\n"
     ]
    },
    {
     "data": {
      "image/png": "[encoded data removed]",
      "text/plain": [
       "<Figure size 720x432 with 1 Axes>"
      ]
     },
     "metadata": {
      "needs_background": "light"
     },
     "output_type": "display_data"
    }
   ],
   "source": [
    "# visualize churn rate by churn rate category\n",
    "plt.figure(figsize=(10, 6))\n",
    "sns.countplot(data=df, x='churn_rate_category', hue='churn', palette='Set1')  \n",
    "print(\"High churn states have a visibly higher proportion of churned customers compared to the other categories.\")\n",
    "\n",
    "print(\"Low churn states have the smallest number of churned customers.\")\n",
    "\n",
    "print(\"This categorization helps identify which states are at higher risk and may need targeted retention strategies.\")  "
   ]
  },
  {
   "cell_type": "code",
   "execution_count": 22,
   "id": "b7ec103e",
   "metadata": {},
   "outputs": [
    {
     "name": "stdout",
     "output_type": "stream",
     "text": [
      "Customers who churn tend to make more customer service calls.\n",
      "This implies frequent customer support contact could be a warning sign of dissatisfaction or unresolved issues.\n"
     ]
    },
    {
     "data": {
      "image/png": "[encoded data removed]",
      "text/plain": [
       "<Figure size 720x576 with 1 Axes>"
      ]
     },
     "metadata": {
      "needs_background": "light"
     },
     "output_type": "display_data"
    }
   ],
   "source": [
    "fig,ax = plt.subplots(figsize=(10,8))\n",
    "bins = np.arange(11) - 0.5\n",
    "ax = sns.histplot(\n",
    "df,\n",
    "x='customer service calls',\n",
    "hue='churn',\n",
    "multiple='stack',\n",
    "hue_order=[1,0],\n",
    "bins=bins,\n",
    "palette=['#0000', '#A44444']\n",
    ")\n",
    "ax.set_title('Number of Customer Service calls', fontsize = 40)\n",
    "ax.set_xlabel(\"Customer Service Calls\", fontsize = 20)\n",
    "ax.set_ylabel(\"Count\", fontsize = 20)\n",
    "plt.yticks(fontsize = 15)\n",
    "plt.xticks(range(10), fontsize = 15)\n",
    "plt.xlim([-1, 10])\n",
    "\n",
    "ax.legend(title= \"Status\", labels = [\"Not Churned\", 'Churned'])\n",
    "print(\"Customers who churn tend to make more customer service calls.\")\n",
    "\n",
    "print(\"This implies frequent customer support contact could be a warning sign of dissatisfaction or unresolved issues.\")"
   ]
  },
  {
   "cell_type": "code",
   "execution_count": null,
   "id": "b6d7449b",
   "metadata": {},
   "outputs": [
    {
     "data": {
      "image/png": "[encoded data removed]",
      "text/plain": [
       "<Figure size 1368x432 with 6 Axes>"
      ]
     },
     "metadata": {
      "needs_background": "light"
     },
     "output_type": "display_data"
    }
   ],
   "source": [
    "# Distribution plots for Numeric features\n",
    "f,ax=plt.subplots(2,3,figsize=(19,6),constrained_layout = True)\n",
    "sns.distplot(df[\"account length\"],bins=20,ax=ax[0,0]);\n",
    "sns.distplot(df[\"total day calls\"],bins=20,ax=ax[0,1]);\n",
    "sns.distplot(df[\"total eve calls\"],bins=20,ax=ax[0,2]);\n",
    "sns.distplot(df[\"total night calls\"],bins=20,ax=ax[1,0]);\n",
    "sns.distplot(df[\"total intl calls\"],bins=20,ax=ax[1,1]);\n",
    "sns.distplot(df[\"customer service calls\"],bins=20,ax=ax[1,2]);\n"
   ]
  },
  {
   "cell_type": "markdown",
   "id": "91a18b2f",
   "metadata": {},
   "source": [
    "- For the distribution plots of the features above, all of them except customer service calls, have a normal distribution.\n",
    "\n",
    "- Total international calls seems to be skewed to the right side however it is still normally\n",
    "distributed.\n",
    "\n",
    "- Customer service calls has a few peaks, which indicates there are a few modes in the population. \n",
    "This makes sense because customer service calls has to be a integer and not a float number."
   ]
  },
  {
   "cell_type": "code",
   "execution_count": 42,
   "id": "15f8d490",
   "metadata": {},
   "outputs": [
    {
     "data": {
      "image/png": "[encoded data removed]",
      "text/plain": [
       "<Figure size 720x288 with 1 Axes>"
      ]
     },
     "metadata": {
      "needs_background": "light"
     },
     "output_type": "display_data"
    },
    {
     "data": {
      "image/png": "[encoded data removed]",
      "text/plain": [
       "<Figure size 720x288 with 1 Axes>"
      ]
     },
     "metadata": {
      "needs_background": "light"
     },
     "output_type": "display_data"
    },
    {
     "data": {
      "image/png": "[encoded data removed]",
      "text/plain": [
       "<Figure size 720x288 with 1 Axes>"
      ]
     },
     "metadata": {
      "needs_background": "light"
     },
     "output_type": "display_data"
    },
    {
     "data": {
      "image/png": "[encoded data removed]",
      "text/plain": [
       "<Figure size 720x288 with 1 Axes>"
      ]
     },
     "metadata": {
      "needs_background": "light"
     },
     "output_type": "display_data"
    }
   ],
   "source": [
    "# categorical features analysis\n",
    "# Visualize categorical features\n",
    "categorical_features = ['state', 'international plan', 'voice mail plan', 'churn_rate_category']\n",
    "for i in categorical_features:\n",
    "    plt.figure(figsize=(10,4))\n",
    "    sns.countplot(x=i, hue=\"churn\", data=df, order= df[i].value_counts().iloc[0:15].index)\n",
    "    plt.show()\n"
   ]
  },
  {
   "cell_type": "markdown",
   "id": "8ba2427c",
   "metadata": {},
   "source": [
    "## Modelling"
   ]
  },
  {
   "cell_type": "markdown",
   "id": "faf7171d",
   "metadata": {},
   "source": [
    "### Feature preparation (Encoding and Scaling)\n",
    "- StandardScaler is essential for logistic regression to ensure all numeric features contribute equally.\n",
    "### Train-Test Split\n",
    "- Stratify=y ensures that the churn class proportions are preserved in both train and test sets — great for classification problems with class imbalance.\n",
    "- 80-20 split is standard and reasonable.\n",
    "\n"
   ]
  },
  {
   "cell_type": "code",
   "execution_count": 23,
   "id": "22dc5b74",
   "metadata": {},
   "outputs": [],
   "source": [
    "# define x and y variables for model training\n",
    "X = df.drop(columns=[\"churn\"])# features(Independent variables)\n",
    "y = df[\"churn\"] # target(Dependent variable)\n",
    "\n",
    "#  Get dummies for categorical columns\n",
    "X = pd.get_dummies(X, drop_first=True) # One-hot encoding for categorical variables, dropping the first category to avoid multicollinearity\n",
    "\n",
    "# Scale numeric columns\n",
    "scaler = StandardScaler() # initialize the scaler\n",
    "X_scaled = scaler.fit_transform(X)# scale nuerical columns\n",
    "# Convert the scaled data back to a DataFrame\n",
    "X_scaled = pd.DataFrame(X_scaled, columns=X.columns) # Convert the scaled data back to a DataFrame"
   ]
  },
  {
   "cell_type": "code",
   "execution_count": 24,
   "id": "32449601",
   "metadata": {},
   "outputs": [],
   "source": [
    "# Train-test split\n",
    "X_train, X_test, y_train, y_test = train_test_split(X_scaled, y, test_size=0.2, random_state=42, stratify=y)"
   ]
  },
  {
   "cell_type": "markdown",
   "id": "8997c23e",
   "metadata": {},
   "source": [
    "### Logistic Regression"
   ]
  },
  {
   "cell_type": "code",
   "execution_count": 25,
   "id": "c9007dc4",
   "metadata": {},
   "outputs": [
    {
     "data": {
      "text/plain": [
       "LogisticRegression()"
      ]
     },
     "execution_count": 25,
     "metadata": {},
     "output_type": "execute_result"
    }
   ],
   "source": [
    "model = LogisticRegression() # Initialize the model\n",
    "model.fit(X_train, y_train) # Fit the model on the training data"
   ]
  },
  {
   "cell_type": "code",
   "execution_count": 26,
   "id": "74a4eb00",
   "metadata": {},
   "outputs": [
    {
     "name": "stdout",
     "output_type": "stream",
     "text": [
      "[[549  21]\n",
      " [ 71  26]]\n",
      "              precision    recall  f1-score   support\n",
      "\n",
      "       False       0.89      0.96      0.92       570\n",
      "        True       0.55      0.27      0.36        97\n",
      "\n",
      "    accuracy                           0.86       667\n",
      "   macro avg       0.72      0.62      0.64       667\n",
      "weighted avg       0.84      0.86      0.84       667\n",
      "\n",
      "ROC AUC Score: 0.8020618556701031\n"
     ]
    }
   ],
   "source": [
    "# model evaluation\n",
    "y_pred = model.predict(X_test) # Make predictions on the test set\n",
    "# ROC curve and AUC score\n",
    "y_pred_proba = model.predict_proba(X_test)[:, 1] # Get predicted probabilities for the positive class\n",
    "\n",
    "print(confusion_matrix(y_test, y_pred))\n",
    "print(classification_report(y_test, y_pred))\n",
    "print(\"ROC AUC Score:\", roc_auc_score(y_test, y_pred_proba))"
   ]
  },
  {
   "cell_type": "markdown",
   "id": "96679cd5",
   "metadata": {},
   "source": [
    "##### From the results above, observations are;\n",
    "***Confusin matrix***\n",
    ">* True Negatives (549): Correctly predicted non-churned customers.\n",
    ">* False Positives (21): Predicted churn, but actually didn't churn.\n",
    ">* False Negatives (71): Predicted no churn, but actually churned (missed churns).\n",
    ">* True Positives (26): Correctly predicted churned customers.\n",
    "\n",
    "***Classification Report***\n",
    ">* Precision (Churn = 0.55): When the model predicts churn, it's correct 55% of the time.\n",
    ">* Recall (Churn = 0.27): The model only catches 27% of actual churners — meaning it misses 73%.\n",
    ">* F1 Score (Churn = 0.36): The harmonic mean of precision and recall is low, indicating poor performance on the churn class.\n",
    "\n",
    "***Overall Accuracy***\n",
    ">* 86% — The model is mostly correct, but this is misleading due to class imbalance (churners are only ~15%).\n",
    "\n",
    "***ROC AUC Score:***\n",
    ">* 0.80 — This shows that the model has decent ability to distinguish between churners and non-churners overall, even if it's not reflected in classification metrics.\n",
    "\n",
    "\n"
   ]
  },
  {
   "cell_type": "markdown",
   "id": "83b7774d",
   "metadata": {},
   "source": [
    "The low recall on churn class suggests a need for:\n",
    "Resampling techniques (e.g., SMOTE, undersampling).\n",
    "Adjusting decision threshold.\n",
    "Trying other models (e.g., Random Forest, XGBoost).\n",
    "Using class_weight='balanced' in the logistic regression.\n",
    "\n"
   ]
  },
  {
   "cell_type": "code",
   "execution_count": 27,
   "id": "a35e19c0",
   "metadata": {},
   "outputs": [
    {
     "name": "stdout",
     "output_type": "stream",
     "text": [
      "Original class distribution: Counter({False: 2280, True: 386})\n",
      "Resampled class distribution: Counter({False: 2280, True: 2280})\n"
     ]
    }
   ],
   "source": [
    "# Apply SMOTE to training data\n",
    "smote = SMOTE(random_state=42)\n",
    "X_resampled, y_resampled = smote.fit_resample(X_train, y_train)\n",
    "\n",
    "# Check new class distribution\n",
    "print(\"Original class distribution:\", Counter(y_train))\n",
    "print(\"Resampled class distribution:\", Counter(y_resampled))\n"
   ]
  },
  {
   "cell_type": "code",
   "execution_count": 28,
   "id": "ebe05801",
   "metadata": {},
   "outputs": [
    {
     "data": {
      "text/plain": [
       "LogisticRegression(random_state=42)"
      ]
     },
     "execution_count": 28,
     "metadata": {},
     "output_type": "execute_result"
    }
   ],
   "source": [
    "# Train a new model on the resampled data\n",
    "model_smote = LogisticRegression(random_state=42)\n",
    "model_smote.fit(X_resampled, y_resampled)"
   ]
  },
  {
   "cell_type": "code",
   "execution_count": 29,
   "id": "45aa4bee",
   "metadata": {},
   "outputs": [
    {
     "name": "stdout",
     "output_type": "stream",
     "text": [
      "Confusion Matrix:\n",
      " [[437 133]\n",
      " [ 30  67]]\n",
      "\n",
      "Classification Report:\n",
      "               precision    recall  f1-score   support\n",
      "\n",
      "       False       0.94      0.77      0.84       570\n",
      "        True       0.34      0.69      0.45        97\n",
      "\n",
      "    accuracy                           0.76       667\n",
      "   macro avg       0.64      0.73      0.65       667\n",
      "weighted avg       0.85      0.76      0.79       667\n",
      "\n",
      "ROC AUC Score: 0.7286941580756013\n"
     ]
    }
   ],
   "source": [
    "# Predict on original test set\n",
    "y_pred_smote = model_smote.predict(X_test)\n",
    "\n",
    "# Evaluation\n",
    "print(\"Confusion Matrix:\\n\", confusion_matrix(y_test, y_pred_smote))\n",
    "print(\"\\nClassification Report:\\n\", classification_report(y_test, y_pred_smote))\n",
    "print(\"ROC AUC Score:\", roc_auc_score(y_test, y_pred_smote))\n"
   ]
  },
  {
   "cell_type": "markdown",
   "id": "09c5e6fb",
   "metadata": {},
   "source": [
    "-  Recall (True class):\n",
    "Improved massively from 0.27 → 0.69The model now captures 69% of actual churners, which is vital in churn prediction.\n",
    "- F1-score (True class):\n",
    "Improved from 0.36 → 0.45,Indicating a better balance between precision and recall."
   ]
  },
  {
   "cell_type": "code",
   "execution_count": 30,
   "id": "5d8f1428",
   "metadata": {},
   "outputs": [
    {
     "data": {
      "image/png": "[encoded data removed]",
      "text/plain": [
       "<Figure size 576x432 with 1 Axes>"
      ]
     },
     "metadata": {
      "needs_background": "light"
     },
     "output_type": "display_data"
    }
   ],
   "source": [
    "\n",
    "y_probs = model_smote.predict_proba(X_test)[:, 1]  # Probabilities for positive class\n",
    "fpr, tpr, thresholds = roc_curve(y_test, y_probs)\n",
    "roc_auc = auc(fpr, tpr)\n",
    "\n",
    "plt.figure(figsize=(8,6))\n",
    "plt.plot(fpr, tpr, color='blue', label=f'ROC curve (AUC = {roc_auc:.2f})')\n",
    "plt.plot([0, 1], [0, 1], color='gray', linestyle='--')\n",
    "plt.xlabel('False Positive Rate')\n",
    "plt.ylabel('True Positive Rate')\n",
    "plt.title('ROC Curve - SMOTE + Logistic Regression')\n",
    "plt.legend(loc=\"lower right\")\n",
    "plt.grid(True)\n",
    "plt.show()\n"
   ]
  },
  {
   "cell_type": "markdown",
   "id": "56857c90",
   "metadata": {},
   "source": [
    "### Decision Tree"
   ]
  },
  {
   "cell_type": "markdown",
   "id": "2d81becb",
   "metadata": {},
   "source": [
    "- Train a Decision Tree Classifier with SMOTE Data\n",
    "The balanced SMOTE data (X_resampled, y_resampled) from earlier is used."
   ]
  },
  {
   "cell_type": "code",
   "execution_count": 31,
   "id": "d0062b57",
   "metadata": {},
   "outputs": [],
   "source": [
    "from sklearn.tree import DecisionTreeClassifier # Import Decision Tree Classifier\n",
    "\n",
    "#  Initialize the model\n",
    "dt_model = DecisionTreeClassifier(random_state=42)\n",
    "\n",
    "# Fit the model on SMOTE-balanced data\n",
    "dt_model.fit(X_resampled, y_resampled)\n",
    "\n",
    "#  Make predictions on the original test set\n",
    "y_pred_dt = dt_model.predict(X_test)\n",
    "y_proba_dt = dt_model.predict_proba(X_test)[:, 1]  # For ROC curve\n"
   ]
  },
  {
   "cell_type": "markdown",
   "id": "b456394b",
   "metadata": {},
   "source": [
    "- Evaluate the Decision Tree Model\n",
    "compute the confusion matrix, classification report, and ROC AUC score, then plot the ROC curve."
   ]
  },
  {
   "cell_type": "code",
   "execution_count": 32,
   "id": "b54df159",
   "metadata": {},
   "outputs": [
    {
     "name": "stdout",
     "output_type": "stream",
     "text": [
      "Confusion Matrix:\n",
      " [[537  33]\n",
      " [ 21  76]]\n",
      "\n",
      "Classification Report:\n",
      "               precision    recall  f1-score   support\n",
      "\n",
      "       False       0.96      0.94      0.95       570\n",
      "        True       0.70      0.78      0.74        97\n",
      "\n",
      "    accuracy                           0.92       667\n",
      "   macro avg       0.83      0.86      0.84       667\n",
      "weighted avg       0.92      0.92      0.92       667\n",
      "\n",
      "ROC AUC Score: 0.86\n"
     ]
    }
   ],
   "source": [
    "# Confusion Matrix\n",
    "cm_dt = confusion_matrix(y_test, y_pred_dt)\n",
    "print(\"Confusion Matrix:\\n\", cm_dt)\n",
    "\n",
    "# Classification Report\n",
    "print(\"\\nClassification Report:\\n\", classification_report(y_test, y_pred_dt))\n",
    "\n",
    "# ROC AUC Score\n",
    "roc_auc_dt = roc_auc_score(y_test, y_proba_dt)\n",
    "print(f\"ROC AUC Score: {roc_auc_dt:.2f}\")\n",
    "\n",
    "# ROC Curve Plot\n",
    "fpr_dt, tpr_dt, _ = roc_curve(y_test, y_proba_dt)"
   ]
  },
  {
   "cell_type": "code",
   "execution_count": 33,
   "id": "d6e4bd34",
   "metadata": {},
   "outputs": [
    {
     "data": {
      "image/png": "[encoded data removed]",
      "text/plain": [
       "<Figure size 576x432 with 1 Axes>"
      ]
     },
     "metadata": {
      "needs_background": "light"
     },
     "output_type": "display_data"
    }
   ],
   "source": [
    "plt.figure(figsize=(8,6))\n",
    "plt.plot(fpr_dt, tpr_dt, color='green', label=f\"ROC curve (AUC = {roc_auc_dt:.2f})\")\n",
    "plt.plot([0, 1], [0, 1], linestyle='--', color='grey')\n",
    "plt.title(\"ROC Curve - Decision Tree + SMOTE\")\n",
    "plt.xlabel(\"False Positive Rate\")\n",
    "plt.ylabel(\"True Positive Rate\")\n",
    "plt.legend(loc=\"lower right\")\n",
    "plt.grid(True)\n",
    "plt.show()"
   ]
  },
  {
   "cell_type": "markdown",
   "id": "c340527c",
   "metadata": {},
   "source": [
    "The higher AUC indicates that the Decision Tree model is effectively handling non-linear relationships and interactions between features. SMOTE complements this by balancing the classes, leading to robust performance."
   ]
  },
  {
   "cell_type": "markdown",
   "id": "2d3d0e0b",
   "metadata": {},
   "source": [
    "### Tune Decision Tree using GridSearchCV\n"
   ]
  },
  {
   "cell_type": "code",
   "execution_count": 34,
   "id": "6395ae27",
   "metadata": {},
   "outputs": [],
   "source": [
    "# set up the hyperparameter grid for Decision Tree Classifier\n",
    "param_grid_dt = {\n",
    "    'criterion': ['gini', 'entropy'], # Function to measure the quality of a split\n",
    "    'max_depth': [None, 10, 20, 30], # Maximum depth of the tree\n",
    "    'min_samples_split': [2, 5, 10], # Minimum number of samples required to split an internal node\n",
    "    'min_samples_leaf': [1, 2, 4], # Minimum number of samples required to be at a leaf node\n",
    "    'max_features': ['sqrt', 'log2'] # Number of features to consider when looking for the best split\n",
    "}\n"
   ]
  },
  {
   "cell_type": "markdown",
   "id": "35a7c5a2",
   "metadata": {},
   "source": [
    "### Run GridSearchCV with this grid"
   ]
  },
  {
   "cell_type": "code",
   "execution_count": 35,
   "id": "bf523538",
   "metadata": {},
   "outputs": [
    {
     "name": "stdout",
     "output_type": "stream",
     "text": [
      "Fitting 5 folds for each of 144 candidates, totalling 720 fits\n"
     ]
    },
    {
     "name": "stderr",
     "output_type": "stream",
     "text": [
      "[Parallel(n_jobs=-1)]: Using backend LokyBackend with 8 concurrent workers.\n",
      "[Parallel(n_jobs=-1)]: Done  34 tasks      | elapsed:    2.5s\n"
     ]
    },
    {
     "name": "stdout",
     "output_type": "stream",
     "text": [
      "Best Parameters: {'criterion': 'entropy', 'max_depth': 20, 'max_features': 'sqrt', 'min_samples_leaf': 1, 'min_samples_split': 5}\n"
     ]
    },
    {
     "name": "stderr",
     "output_type": "stream",
     "text": [
      "[Parallel(n_jobs=-1)]: Done 720 out of 720 | elapsed:    4.6s finished\n"
     ]
    }
   ],
   "source": [
    "# Initialize model\n",
    "dt = DecisionTreeClassifier(random_state=42)\n",
    "\n",
    "# Grid search with 5-fold CV\n",
    "grid_search_dt = GridSearchCV(\n",
    "    estimator=dt,\n",
    "    param_grid=param_grid_dt,\n",
    "    cv=5,\n",
    "    scoring='accuracy', # Use accuracy as the scoring metric\n",
    "    refit=True, # Refit the best model on the whole dataset\n",
    "    verbose=1,# Display progress messages\n",
    "    n_jobs=-1 # Use all available cores for parallel processing\n",
    ")\n",
    "\n",
    "# Fit decision tree with smote to training data\n",
    "X_train_smote, y_train_smote = smote.fit_resample(X_train, y_train)  # Resample training data with SMOTE\n",
    "# Fit the grid search model\n",
    "grid_search_dt.fit(X_train_smote, y_train_smote)\n",
    "\n",
    "# Get best model and parameters\n",
    "best_dt = grid_search_dt.best_estimator_\n",
    "print(\"Best Parameters:\", grid_search_dt.best_params_)\n"
   ]
  },
  {
   "cell_type": "code",
   "execution_count": 36,
   "id": "4d540a37",
   "metadata": {},
   "outputs": [
    {
     "data": {
      "image/png": "[encoded data removed]",
      "text/plain": [
       "<Figure size 1440x720 with 1 Axes>"
      ]
     },
     "metadata": {
      "needs_background": "light"
     },
     "output_type": "display_data"
    }
   ],
   "source": [
    "#Decision tree with smote\n",
    "plt.figure(figsize=(20, 10))\n",
    "plot_tree(best_dt, filled=True, max_depth=3, feature_names=[f'Feature {i}' for i in range(X_train_smote.shape[1])], class_names=True)\n",
    "plt.title(\"Decision Tree (Top 3 Levels)\")\n",
    "plt.show()\n"
   ]
  },
  {
   "cell_type": "markdown",
   "id": "cb65c336",
   "metadata": {},
   "source": [
    "### Evaluate and Interpret the Tuned Model"
   ]
  },
  {
   "cell_type": "code",
   "execution_count": 37,
   "id": "2464c01e",
   "metadata": {},
   "outputs": [
    {
     "name": "stdout",
     "output_type": "stream",
     "text": [
      "Confusion Matrix:\n",
      " [[544  26]\n",
      " [ 21  76]]\n",
      "\n",
      "Classification Report:\n",
      "               precision    recall  f1-score   support\n",
      "\n",
      "       False       0.96      0.95      0.96       570\n",
      "        True       0.75      0.78      0.76        97\n",
      "\n",
      "    accuracy                           0.93       667\n",
      "   macro avg       0.85      0.87      0.86       667\n",
      "weighted avg       0.93      0.93      0.93       667\n",
      "\n",
      "\n",
      "ROC AUC Score: 0.8725718936516549\n",
      "F1 Score: 0.763819095477387\n"
     ]
    }
   ],
   "source": [
    "# Apply SMOTE to training data\n",
    "smote = SMOTE(random_state=42)\n",
    "X_train_smote, y_train_smote = smote.fit_resample(X_train, y_train)\n",
    "\n",
    "# Define hyperparameter grid\n",
    "param_grid = {\n",
    "    'max_depth': [3, 5, 10, None],\n",
    "    'min_samples_split': [2, 5, 10],\n",
    "    'min_samples_leaf': [1, 2, 4],\n",
    "    'criterion': ['gini', 'entropy']\n",
    "}\n",
    "\n",
    "# Grid search with cross-validation\n",
    "grid_search_dt = GridSearchCV(DecisionTreeClassifier(random_state=42), param_grid, cv=5, scoring='f1', n_jobs=-1)\n",
    "grid_search_dt.fit(X_train_smote, y_train_smote)\n",
    "\n",
    "# Best model and evaluation\n",
    "best_dt = grid_search_dt.best_estimator_\n",
    "y_pred_dt = best_dt.predict(X_test)\n",
    "y_proba_dt = best_dt.predict_proba(X_test)[:, 1]\n",
    "\n",
    "# Results\n",
    "print(\"Confusion Matrix:\\n\", confusion_matrix(y_test, y_pred_dt))\n",
    "print(\"\\nClassification Report:\\n\", classification_report(y_test, y_pred_dt))\n",
    "print(\"\\nROC AUC Score:\", roc_auc_score(y_test, y_proba_dt))\n",
    "print(\"F1 Score:\", f1_score(y_test, y_pred_dt))\n"
   ]
  },
  {
   "cell_type": "markdown",
   "id": "df7914b2",
   "metadata": {},
   "source": [
    "##### From the results above, observations are;\n",
    "***Confusin matrix***\n",
    ">* True Negatives (TN) = 544 → Model correctly predicted \"False\" (non-churn) for 544 instances.\n",
    ">* False Positives (FP) = 26 → Model incorrectly predicted \"True\" (churn) for 26 non-churn cases.\n",
    ">* False Negatives (FN) = 21 → Model missed 21 actual churn cases.\n",
    ">* True Positives (TP) = 76 → Model correctly predicted churn for 76 customers.\n",
    "\n",
    "***Classification Report***\n",
    ">* Precision (for churn = True) = 0.75 → Of all predicted churns, 75% were actually churn.\n",
    ">* Recall (for churn = True) = 0.78 → The model correctly identified 78% of actual churn cases.\n",
    ">* F1-score (for churn = True) = 0.76 → Balance between precision and recall. Decent but with room for improvement.\n",
    "\n",
    "***Overall Accuracy***\n",
    ">* 93% — Overall, the model correctly classified 93% of all customers.\n",
    "\n",
    "***ROC AUC Score:***\n",
    ">* Excellent discriminatory power between churn and non-churn.\n",
    ">* AUC of 0.87 means there is an 87% chance the model ranks a random churn customer higher than a random non-churn customer."
   ]
  },
  {
   "cell_type": "markdown",
   "id": "18d41c47",
   "metadata": {},
   "source": [
    "**Model Comparison**"
   ]
  },
  {
   "cell_type": "code",
   "execution_count": 38,
   "id": "ce805b58",
   "metadata": {},
   "outputs": [
    {
     "data": {
      "image/png": "[encoded data removed]",
      "text/plain": [
       "<Figure size 576x432 with 1 Axes>"
      ]
     },
     "metadata": {
      "needs_background": "light"
     },
     "output_type": "display_data"
    }
   ],
   "source": [
    "from sklearn.metrics import roc_curve, auc\n",
    "import matplotlib.pyplot as plt\n",
    "\n",
    "# Assuming:\n",
    "# - fpr_dt, tpr_dt, roc_auc_dt are for Decision Tree\n",
    "# - model_smote is the Logistic Regression model\n",
    "# - X_test and y_test are already defined\n",
    "\n",
    "# Logistic Regression predictions\n",
    "y_probs_lr = model_smote.predict_proba(X_test)[:, 1]\n",
    "fpr_lr, tpr_lr, _ = roc_curve(y_test, y_probs_lr)\n",
    "roc_auc_lr = auc(fpr_lr, tpr_lr)\n",
    "\n",
    "# Plot both ROC curves\n",
    "plt.figure(figsize=(8, 6))\n",
    "plt.plot(fpr_dt, tpr_dt, color='green', label=f'Decision Tree (AUC = {roc_auc_dt:.2f})')\n",
    "plt.plot(fpr_lr, tpr_lr, color='blue', label=f'Logistic Regression (AUC = {roc_auc_lr:.2f})')\n",
    "plt.plot([0, 1], [0, 1], linestyle='--', color='grey')\n",
    "\n",
    "plt.title('ROC Curve Comparison: Decision Tree vs Logistic Regression (with SMOTE)')\n",
    "plt.xlabel('False Positive Rate')\n",
    "plt.ylabel('True Positive Rate')\n",
    "plt.legend(loc='lower right')\n",
    "plt.grid(True)\n",
    "plt.show()\n"
   ]
  },
  {
   "cell_type": "markdown",
   "id": "9bc2b375",
   "metadata": {},
   "source": [
    "- The Decision Tree model outperforms Logistic Regression in overall classification performance, as shown by its higher AUC.\n",
    "\n",
    "- SMOTE helped both models handle class imbalance effectively, as both curves rise well above the diagonal (random chance line).\n",
    "\n",
    "- Decision Tree may be preferred when prioritizing predictive power, but may require tuning or pruning to avoid overfitting.\n",
    "\n",
    "- Logistic Regression, though slightly less powerful, offers more interpretability and is generally more stable for deployment in high-stakes environments.\n",
    "\n",
    "***Use the Decision Tree model for churn prediction if maximizing detection is the top priority. However, Logistic Regression model  is considered if business stakeholders require explainability or if model generalization is critical.***\n"
   ]
  },
  {
   "cell_type": "markdown",
   "metadata": {},
   "source": [
    "##  Conclusions\n",
    "\n",
    "1. **The model effectively identifies churn risk with high overall accuracy (93%) and strong class separation (ROC AUC = 0.87).**\n",
    "   This shows that the churn prediction system can reliably distinguish between churners and non-churners in SyriaTel’s customer base.\n",
    "\n",
    "2. **Despite class imbalance, the model maintains a solid recall (78%) and F1-score (76%) for the churn class.**\n",
    "   This balance means the model not only catches most churners but also limits false positives, ensuring actionable predictions.\n",
    "\n",
    "3. **Customer service issues, high international call charges, and lack of value-added services (e.g., voicemail) are likely key churn drivers.**\n",
    "   These behavioral indicators reflect dissatisfaction or unmet needs, making them critical intervention points.\n",
    "\n",
    "4. **Feature importance or SHAP analysis can pinpoint actionable customer behavior patterns contributing to churn.**\n",
    "   These insights provide a foundation for personalized retention strategies rather than one-size-fits-all solutions.\n"
   ]
  },
  {
   "cell_type": "markdown",
   "id": "9899cf55",
   "metadata": {},
   "source": [
    "## Business Recommendations for SyriaTel\n",
    "\n",
    "1. **Implement a Proactive Retention Program for High-Risk Customers.**\n",
    "   Use the model to flag customers with high churn probability and reach out with targeted incentives (e.g., discounts, free upgrades) before they leave.\n",
    "\n",
    "2. **Enhance Customer Service Quality and Responsiveness.**\n",
    "   Monitor customers who make multiple support calls. Offer priority handling or assign dedicated agents to reduce frustration and improve satisfaction.\n",
    "\n",
    "3. **Offer Affordable International Call Packages.**\n",
    "   If churn is linked to high international call charges, introduce cost-effective bundled plans or fixed-rate options to reduce billing shock.\n",
    "\n",
    "4. **Promote Value-Added Services Through Bundling.**\n",
    "   Encourage adoption of voicemail or other underused services by bundling them into popular plans or offering limited-time trials, increasing customer stickiness.\n"
   ]
  }
 ],
 "metadata": {
  "kernelspec": {
   "display_name": "learn-env",
   "language": "python",
   "name": "python3"
  },
  "language_info": {
   "codemirror_mode": {
    "name": "ipython",
    "version": 3
   },
   "file_extension": ".py",
   "mimetype": "text/x-python",
   "name": "python",
   "nbconvert_exporter": "python",
   "pygments_lexer": "ipython3",
   "version": "3.8.5"
  }
 },
 "nbformat": 4,
 "nbformat_minor": 5
}
